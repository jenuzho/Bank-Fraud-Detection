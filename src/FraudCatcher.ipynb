{
    "cells": [
        {
            "cell_type": "markdown",
            "metadata": {},
            "source": [
                "<br>\n",
                "\n",
                "<br>\n",
                "\n",
                "# 💳 **BANK FRAUD DETECTION** 💳\n",
                "\n",
                "<br>\n",
                "\n",
                "**MODEL**\n",
                "\n",
                "<br>"
            ]
        },
        {
            "cell_type": "markdown",
            "metadata": {},
            "source": [
                "## **INDEX**\n",
                "\n",
                "- **STEP 1: PROBLEM DEFINITION**\n",
                "- **STEP 2: DATA COLLECTION**\n"
            ]
        },
        {
            "cell_type": "markdown",
            "metadata": {},
            "source": [
                "<br>\n",
                "\n",
                "<br>\n",
                "\n",
                "# **STEP 1: PROBLEM DEFINITION**"
            ]
        },
        {
            "cell_type": "markdown",
            "metadata": {},
            "source": [
                "Bank fraud represents a significant threat to financial institutions, leading to substantial economic losses and negatively impacting customer trust. Early and accurate detection of fraudulent activities is essential to mitigate these risks. The objective of this project is to develop a machine learning model that identifies fraudulent transactions using the \"Bank Account Fraud Dataset Suite (NeurIPS 2022)\" available on Kaggle.\n",
                "\n",
                "**Description of the Dataset:**\n",
                "The data belong to a dataset from the company Feedzai.\n",
                "\n",
                "Feedzai is a Portuguese data science company specializing in the development of real-time machine learning tools to identify fraudulent payment transactions and minimize risks in the financial services, retail, and e-commerce sectors. Its platform uses advanced artificial intelligence to analyze large volumes of data and detect fraud patterns, such as identity theft, credit card fraud, and online scams.\n",
                "\n",
                "In our specific case, the selected dataset provides tabular information on bank transactions, including relevant features for fraud identification. This dataset has been designed to evaluate machine learning models in contexts of biased, imbalanced, and dynamic data."
            ]
        },
        {
            "cell_type": "markdown",
            "metadata": {},
            "source": [
                "<br>\n",
                "\n",
                "<br>\n",
                "\n",
                "# **STEP 2: DATA COLLECTION**"
            ]
        },
        {
            "cell_type": "markdown",
            "metadata": {},
            "source": [
                "<br>\n",
                "\n",
                "### **IMPORTING LIBRARIES**"
            ]
        },
        {
            "cell_type": "code",
            "execution_count": 3,
            "metadata": {},
            "outputs": [],
            "source": [
                "import pandas as pd\n",
                "import numpy as np\n",
                "import os\n",
                "import zipfile\n"
            ]
        },
        {
            "cell_type": "code",
            "execution_count": 2,
            "metadata": {},
            "outputs": [
                {
                    "data": {
                        "text/plain": [
                            "0"
                        ]
                    },
                    "execution_count": 2,
                    "metadata": {},
                    "output_type": "execute_result"
                }
            ],
            "source": [
                "# Kaggle dataset identifier\n",
                "dataset_identifier = \"sgpjesus/bank-account-fraud-dataset-neurips-2022\"\n",
                "\n",
                "# Download the dataset using the Kaggle API\n",
                "os.system(f'kaggle datasets download -d {dataset_identifier}')"
            ]
        },
        {
            "cell_type": "markdown",
            "metadata": {},
            "source": [
                "### **SELECTIVE EXTRACTION**"
            ]
        },
        {
            "cell_type": "code",
            "execution_count": null,
            "metadata": {},
            "outputs": [],
            "source": [
                "# Name of the ZIP file (based on the dataset identifier)\n",
                "zip_filename = dataset_identifier.split('/')[-1] + \".zip\"\n",
                "\n",
                "# Check if the ZIP file exists and extract only the Base.csv file\n",
                "if os.path.exists(zip_filename):\n",
                "    with zipfile.ZipFile(zip_filename, 'r') as zip_ref:\n",
                "        # List all files in the ZIP\n",
                "        files_in_zip = zip_ref.namelist()\n",
                "        \n",
                "        # Check if Base.csv is in the ZIP file\n",
                "        if \"Base.csv\" in files_in_zip:\n",
                "            # Extract only Base.csv\n",
                "            zip_ref.extract(\"Base.csv\", \".\")\n",
                "            print(\"Base.csv has been successfully extracted!\")\n",
                "        else:\n",
                "            print(\"Base.csv not found in the ZIP file.\")\n",
                "else:\n",
                "    print(\"The downloaded ZIP file was not found.\")"
            ]
        }
    ],
    "metadata": {
        "kernelspec": {
            "display_name": "Python 3",
            "language": "python",
            "name": "python3"
        },
        "language_info": {
            "codemirror_mode": {
                "name": "ipython",
                "version": 3
            },
            "file_extension": ".py",
            "mimetype": "text/x-python",
            "name": "python",
            "nbconvert_exporter": "python",
            "pygments_lexer": "ipython3",
            "version": "3.12.6"
        },
        "orig_nbformat": 4
    },
    "nbformat": 4,
    "nbformat_minor": 2
}
