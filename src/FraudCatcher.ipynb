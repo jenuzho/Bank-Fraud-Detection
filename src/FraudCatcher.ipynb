{
    "cells": [
        {
            "cell_type": "markdown",
            "metadata": {},
            "source": [
                "<br>\n",
                "\n",
                "<br>\n",
                "\n",
                "# 💳 **BANK FRAUD DETECTION** 💳\n",
                "\n",
                "<br>\n",
                "\n",
                "**MODEL**\n",
                "\n",
                "<br>"
            ]
        },
        {
            "cell_type": "markdown",
            "metadata": {},
            "source": [
                "## **INDEX**\n",
                "\n",
                "- **🧠 STEP 1: PROBLEM DEFINITION**\n",
                "- **🎣 STEP 2: DATA COLLECTION**\n",
                "- **🔎 STEP 3: EXPLORATORY DATA ANALYSIS (EDA)**\n"
            ]
        },
        {
            "cell_type": "markdown",
            "metadata": {},
            "source": [
                "<br>\n",
                "\n",
                "<br>\n",
                "\n",
                "# **🧠 STEP 1: PROBLEM DEFINITION**"
            ]
        },
        {
            "cell_type": "markdown",
            "metadata": {},
            "source": [
                "\n",
                "In today's digital banking landscape, credit card fraud continues to be a persistent threat, resulting in significant financial losses and operational risks for financial institutions. Detecting fraudulent transactions is a complex task, especially due to their rarity and the evolving nature of fraud patterns.\n",
                "\n",
                "This project aims to build a **machine learning model to detect credit card fraud** using a realistic, synthetic dataset provided by **Feedzai** (published at NeurIPS 2022). Although the data is synthetic, it has been generated to reflect the structure and behavior of real-world fraud cases, providing a robust environment for model development and evaluation.\n",
                "\n",
                "The dataset is:\n",
                "- **Highly imbalanced**, with less than 10% of records labeled as fraud.\n",
                "- **Bias-controlled**, with multiple variants designed to test model fairness and robustness.\n",
                "- **Rich in features**, including both numerical and categorical variables.\n",
                "- **Time-aware**, with a `month` column, though this project will not focus on temporal modeling.\n",
                "\n",
                "### 💼 BUSINESS CONTEXT\n",
                "\n",
                "The target user of this model is a **fraud analyst working at a bank**. Rather than being deployed in real-time production, the model is intended to serve as an analytical tool to help prioritize suspicious transactions and guide human decision-making.\n",
                "\n",
                "### 🎯 PROJECT GOAL\n",
                "\n",
                "The primary goal is to **maximize fraud detection capability** (high recall), while keeping false positives under control (F1-score). The model should identify fraudulent behavior patterns to help reduce financial losses without overwhelming analysts with irrelevant alerts.\n",
                "\n",
                "<br>\n"
            ]
        },
        {
            "cell_type": "markdown",
            "metadata": {},
            "source": [
                "<br>\n",
                "\n",
                "<br>\n",
                "\n",
                "# **🎣 STEP 2: DATA COLLECTION**"
            ]
        },
        {
            "cell_type": "markdown",
            "metadata": {},
            "source": [
                "<br>\n",
                "\n",
                "### **IMPORTING LIBRARIES**"
            ]
        },
        {
            "cell_type": "code",
            "execution_count": 2,
            "metadata": {},
            "outputs": [],
            "source": [
                "import pandas as pd\n",
                "import numpy as np\n",
                "import os\n",
                "import zipfile\n"
            ]
        },
        {
            "cell_type": "code",
            "execution_count": 3,
            "metadata": {},
            "outputs": [
                {
                    "data": {
                        "text/plain": [
                            "0"
                        ]
                    },
                    "execution_count": 3,
                    "metadata": {},
                    "output_type": "execute_result"
                }
            ],
            "source": [
                "# Kaggle dataset identifier\n",
                "dataset_identifier = \"sgpjesus/bank-account-fraud-dataset-neurips-2022\"\n",
                "\n",
                "# Download the dataset using the Kaggle API\n",
                "os.system(f'kaggle datasets download -d {dataset_identifier}')"
            ]
        },
        {
            "cell_type": "markdown",
            "metadata": {},
            "source": [
                "### **SELECTIVE EXTRACTION**"
            ]
        },
        {
            "cell_type": "code",
            "execution_count": 4,
            "metadata": {},
            "outputs": [
                {
                    "name": "stdout",
                    "output_type": "stream",
                    "text": [
                        "Base.csv has been successfully extracted!\n"
                    ]
                }
            ],
            "source": [
                "# Name of the ZIP file (based on the dataset identifier)\n",
                "zip_filename = dataset_identifier.split('/')[-1] + \".zip\"\n",
                "\n",
                "# Check if the ZIP file exists and extract only the Base.csv file\n",
                "if os.path.exists(zip_filename):\n",
                "    with zipfile.ZipFile(zip_filename, 'r') as zip_ref:\n",
                "        # List all files in the ZIP\n",
                "        files_in_zip = zip_ref.namelist()\n",
                "        \n",
                "        # Check if Base.csv is in the ZIP file\n",
                "        if \"Base.csv\" in files_in_zip:\n",
                "            # Extract only Base.csv\n",
                "            zip_ref.extract(\"Base.csv\", \".\")\n",
                "            print(\"Base.csv has been successfully extracted!\")\n",
                "        else:\n",
                "            print(\"Base.csv not found in the ZIP file.\")\n",
                "else:\n",
                "    print(\"The downloaded ZIP file was not found.\")"
            ]
        },
        {
            "cell_type": "markdown",
            "metadata": {},
            "source": [
                "<br>"
            ]
        },
        {
            "cell_type": "markdown",
            "metadata": {},
            "source": [
                "<br>\n",
                "\n",
                "<br>\n",
                "\n",
                "# **🔎 STEP 3: EXPLORATORY DATA ANALYSIS (EDA)**"
            ]
        },
        {
            "cell_type": "markdown",
            "metadata": {},
            "source": [
                "### **LOADING THE DATASET**"
            ]
        },
        {
            "cell_type": "code",
            "execution_count": 7,
            "metadata": {},
            "outputs": [
                {
                    "data": {
                        "text/html": [
                            "<div>\n",
                            "<style scoped>\n",
                            "    .dataframe tbody tr th:only-of-type {\n",
                            "        vertical-align: middle;\n",
                            "    }\n",
                            "\n",
                            "    .dataframe tbody tr th {\n",
                            "        vertical-align: top;\n",
                            "    }\n",
                            "\n",
                            "    .dataframe thead th {\n",
                            "        text-align: right;\n",
                            "    }\n",
                            "</style>\n",
                            "<table border=\"1\" class=\"dataframe\">\n",
                            "  <thead>\n",
                            "    <tr style=\"text-align: right;\">\n",
                            "      <th></th>\n",
                            "      <th>fraud_bool</th>\n",
                            "      <th>income</th>\n",
                            "      <th>name_email_similarity</th>\n",
                            "      <th>prev_address_months_count</th>\n",
                            "      <th>current_address_months_count</th>\n",
                            "      <th>customer_age</th>\n",
                            "      <th>days_since_request</th>\n",
                            "      <th>intended_balcon_amount</th>\n",
                            "      <th>payment_type</th>\n",
                            "      <th>zip_count_4w</th>\n",
                            "      <th>...</th>\n",
                            "      <th>has_other_cards</th>\n",
                            "      <th>proposed_credit_limit</th>\n",
                            "      <th>foreign_request</th>\n",
                            "      <th>source</th>\n",
                            "      <th>session_length_in_minutes</th>\n",
                            "      <th>device_os</th>\n",
                            "      <th>keep_alive_session</th>\n",
                            "      <th>device_distinct_emails_8w</th>\n",
                            "      <th>device_fraud_count</th>\n",
                            "      <th>month</th>\n",
                            "    </tr>\n",
                            "  </thead>\n",
                            "  <tbody>\n",
                            "    <tr>\n",
                            "      <th>0</th>\n",
                            "      <td>0</td>\n",
                            "      <td>0.3</td>\n",
                            "      <td>0.986506</td>\n",
                            "      <td>-1</td>\n",
                            "      <td>25</td>\n",
                            "      <td>40</td>\n",
                            "      <td>0.006735</td>\n",
                            "      <td>102.453711</td>\n",
                            "      <td>AA</td>\n",
                            "      <td>1059</td>\n",
                            "      <td>...</td>\n",
                            "      <td>0</td>\n",
                            "      <td>1500.0</td>\n",
                            "      <td>0</td>\n",
                            "      <td>INTERNET</td>\n",
                            "      <td>16.224843</td>\n",
                            "      <td>linux</td>\n",
                            "      <td>1</td>\n",
                            "      <td>1</td>\n",
                            "      <td>0</td>\n",
                            "      <td>0</td>\n",
                            "    </tr>\n",
                            "    <tr>\n",
                            "      <th>1</th>\n",
                            "      <td>0</td>\n",
                            "      <td>0.8</td>\n",
                            "      <td>0.617426</td>\n",
                            "      <td>-1</td>\n",
                            "      <td>89</td>\n",
                            "      <td>20</td>\n",
                            "      <td>0.010095</td>\n",
                            "      <td>-0.849551</td>\n",
                            "      <td>AD</td>\n",
                            "      <td>1658</td>\n",
                            "      <td>...</td>\n",
                            "      <td>0</td>\n",
                            "      <td>1500.0</td>\n",
                            "      <td>0</td>\n",
                            "      <td>INTERNET</td>\n",
                            "      <td>3.363854</td>\n",
                            "      <td>other</td>\n",
                            "      <td>1</td>\n",
                            "      <td>1</td>\n",
                            "      <td>0</td>\n",
                            "      <td>0</td>\n",
                            "    </tr>\n",
                            "    <tr>\n",
                            "      <th>2</th>\n",
                            "      <td>0</td>\n",
                            "      <td>0.8</td>\n",
                            "      <td>0.996707</td>\n",
                            "      <td>9</td>\n",
                            "      <td>14</td>\n",
                            "      <td>40</td>\n",
                            "      <td>0.012316</td>\n",
                            "      <td>-1.490386</td>\n",
                            "      <td>AB</td>\n",
                            "      <td>1095</td>\n",
                            "      <td>...</td>\n",
                            "      <td>0</td>\n",
                            "      <td>200.0</td>\n",
                            "      <td>0</td>\n",
                            "      <td>INTERNET</td>\n",
                            "      <td>22.730559</td>\n",
                            "      <td>windows</td>\n",
                            "      <td>0</td>\n",
                            "      <td>1</td>\n",
                            "      <td>0</td>\n",
                            "      <td>0</td>\n",
                            "    </tr>\n",
                            "    <tr>\n",
                            "      <th>3</th>\n",
                            "      <td>0</td>\n",
                            "      <td>0.6</td>\n",
                            "      <td>0.475100</td>\n",
                            "      <td>11</td>\n",
                            "      <td>14</td>\n",
                            "      <td>30</td>\n",
                            "      <td>0.006991</td>\n",
                            "      <td>-1.863101</td>\n",
                            "      <td>AB</td>\n",
                            "      <td>3483</td>\n",
                            "      <td>...</td>\n",
                            "      <td>0</td>\n",
                            "      <td>200.0</td>\n",
                            "      <td>0</td>\n",
                            "      <td>INTERNET</td>\n",
                            "      <td>15.215816</td>\n",
                            "      <td>linux</td>\n",
                            "      <td>1</td>\n",
                            "      <td>1</td>\n",
                            "      <td>0</td>\n",
                            "      <td>0</td>\n",
                            "    </tr>\n",
                            "    <tr>\n",
                            "      <th>4</th>\n",
                            "      <td>0</td>\n",
                            "      <td>0.9</td>\n",
                            "      <td>0.842307</td>\n",
                            "      <td>-1</td>\n",
                            "      <td>29</td>\n",
                            "      <td>40</td>\n",
                            "      <td>5.742626</td>\n",
                            "      <td>47.152498</td>\n",
                            "      <td>AA</td>\n",
                            "      <td>2339</td>\n",
                            "      <td>...</td>\n",
                            "      <td>0</td>\n",
                            "      <td>200.0</td>\n",
                            "      <td>0</td>\n",
                            "      <td>INTERNET</td>\n",
                            "      <td>3.743048</td>\n",
                            "      <td>other</td>\n",
                            "      <td>0</td>\n",
                            "      <td>1</td>\n",
                            "      <td>0</td>\n",
                            "      <td>0</td>\n",
                            "    </tr>\n",
                            "  </tbody>\n",
                            "</table>\n",
                            "<p>5 rows × 32 columns</p>\n",
                            "</div>"
                        ],
                        "text/plain": [
                            "   fraud_bool  income  name_email_similarity  prev_address_months_count  \\\n",
                            "0           0     0.3               0.986506                         -1   \n",
                            "1           0     0.8               0.617426                         -1   \n",
                            "2           0     0.8               0.996707                          9   \n",
                            "3           0     0.6               0.475100                         11   \n",
                            "4           0     0.9               0.842307                         -1   \n",
                            "\n",
                            "   current_address_months_count  customer_age  days_since_request  \\\n",
                            "0                            25            40            0.006735   \n",
                            "1                            89            20            0.010095   \n",
                            "2                            14            40            0.012316   \n",
                            "3                            14            30            0.006991   \n",
                            "4                            29            40            5.742626   \n",
                            "\n",
                            "   intended_balcon_amount payment_type  zip_count_4w  ...  has_other_cards  \\\n",
                            "0              102.453711           AA          1059  ...                0   \n",
                            "1               -0.849551           AD          1658  ...                0   \n",
                            "2               -1.490386           AB          1095  ...                0   \n",
                            "3               -1.863101           AB          3483  ...                0   \n",
                            "4               47.152498           AA          2339  ...                0   \n",
                            "\n",
                            "   proposed_credit_limit  foreign_request    source  \\\n",
                            "0                 1500.0                0  INTERNET   \n",
                            "1                 1500.0                0  INTERNET   \n",
                            "2                  200.0                0  INTERNET   \n",
                            "3                  200.0                0  INTERNET   \n",
                            "4                  200.0                0  INTERNET   \n",
                            "\n",
                            "   session_length_in_minutes device_os  keep_alive_session  \\\n",
                            "0                  16.224843     linux                   1   \n",
                            "1                   3.363854     other                   1   \n",
                            "2                  22.730559   windows                   0   \n",
                            "3                  15.215816     linux                   1   \n",
                            "4                   3.743048     other                   0   \n",
                            "\n",
                            "   device_distinct_emails_8w device_fraud_count  month  \n",
                            "0                          1                  0      0  \n",
                            "1                          1                  0      0  \n",
                            "2                          1                  0      0  \n",
                            "3                          1                  0      0  \n",
                            "4                          1                  0      0  \n",
                            "\n",
                            "[5 rows x 32 columns]"
                        ]
                    },
                    "execution_count": 7,
                    "metadata": {},
                    "output_type": "execute_result"
                }
            ],
            "source": [
                "df = pd.read_csv(\"Base.csv\")\n",
                "df.head()"
            ]
        }
    ],
    "metadata": {
        "kernelspec": {
            "display_name": "Python 3",
            "language": "python",
            "name": "python3"
        },
        "language_info": {
            "codemirror_mode": {
                "name": "ipython",
                "version": 3
            },
            "file_extension": ".py",
            "mimetype": "text/x-python",
            "name": "python",
            "nbconvert_exporter": "python",
            "pygments_lexer": "ipython3",
            "version": "3.12.6"
        },
        "orig_nbformat": 4
    },
    "nbformat": 4,
    "nbformat_minor": 2
}
